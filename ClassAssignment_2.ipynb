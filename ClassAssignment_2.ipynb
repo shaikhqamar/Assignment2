{
 "cells": [
  {
   "cell_type": "markdown",
   "id": "4db36234",
   "metadata": {},
   "source": [
    "### 1) Write a program to accept two numbers from the user and calculate multiplication, division"
   ]
  },
  {
   "cell_type": "code",
   "execution_count": 1,
   "id": "8926032e",
   "metadata": {},
   "outputs": [
    {
     "name": "stdout",
     "output_type": "stream",
     "text": [
      "1st value8\n",
      "2nd value8\n",
      "Type  'div' or 'mul'mul\n",
      "64\n"
     ]
    }
   ],
   "source": [
    "# using function\n",
    "def calculate(a,b):\n",
    "    \n",
    "    if op == \"mul\":\n",
    "        print(a*b)\n",
    "    elif op == \"div\":\n",
    "        print(a/b)\n",
    "    else:\n",
    "        print(\"wrong input\")\n",
    "\n",
    "a= int(input(\"1st value\"))\n",
    "b=int(input(\"2nd value\"))\n",
    "op = input(\"Type  'div' or 'mul : \")\n",
    "calculate(a,b)"
   ]
  },
  {
   "cell_type": "code",
   "execution_count": null,
   "id": "f4a590cf",
   "metadata": {},
   "outputs": [],
   "source": []
  },
  {
   "cell_type": "markdown",
   "id": "59925e22",
   "metadata": {},
   "source": [
    "### 2) Write a python program to print the characters from a string that are present at an even index"
   ]
  },
  {
   "cell_type": "code",
   "execution_count": 4,
   "id": "40678343",
   "metadata": {},
   "outputs": [
    {
     "name": "stdout",
     "output_type": "stream",
     "text": [
      "qwerty\n",
      "qet\n"
     ]
    }
   ],
   "source": [
    "def char_at_even(s):\n",
    "    ss=\"\"\n",
    "    for i in s:\n",
    "        if s.index(i)%2==0:\n",
    "            ss=ss+i\n",
    "    print(ss)\n",
    "s=input()\n",
    "char_at_even(s)"
   ]
  },
  {
   "cell_type": "markdown",
   "id": "e3fedc15",
   "metadata": {},
   "source": [
    "### 3) Write a python program to print the characters from a string that are present at an odd index"
   ]
  },
  {
   "cell_type": "code",
   "execution_count": 5,
   "id": "397760eb",
   "metadata": {},
   "outputs": [
    {
     "name": "stdout",
     "output_type": "stream",
     "text": [
      "qwerty\n",
      "wry\n"
     ]
    }
   ],
   "source": [
    "def char_at_odd(s):\n",
    "    ss=\"\"\n",
    "    for i in s:\n",
    "        if s.index(i)%2!=0:\n",
    "            ss=ss+i\n",
    "    print(ss)\n",
    "s=input()\n",
    "char_at_odd(s)"
   ]
  },
  {
   "cell_type": "markdown",
   "id": "1882fa72",
   "metadata": {},
   "source": [
    "### 4) Write a python program which will print the sum of the two numbers if the two numbers are even or it will print the difference of two numbers"
   ]
  },
  {
   "cell_type": "code",
   "execution_count": 6,
   "id": "ba7cbd0f",
   "metadata": {},
   "outputs": [
    {
     "name": "stdout",
     "output_type": "stream",
     "text": [
      "Enter 1st the digit : 15\n",
      "Enter 2nd the digit : 15\n",
      "Difference of odd numbers is : 0\n"
     ]
    }
   ],
   "source": [
    "def sum_and_diff(a,b):\n",
    "    a=int(input(\"Enter 1st the digit : \"))\n",
    "    b=int(input(\"Enter 2nd the digit : \"))\n",
    "    if a%2==0 and b%2==0:\n",
    "        print(\"Sum of even numbers is :\",a+b)\n",
    "    else:\n",
    "        print(\"Difference of odd numbers is :\",a-b)\n",
    "sum_and_diff(a,b)"
   ]
  },
  {
   "cell_type": "code",
   "execution_count": 7,
   "id": "243d2fd4",
   "metadata": {},
   "outputs": [
    {
     "name": "stdout",
     "output_type": "stream",
     "text": [
      "Enter 1st the digit : 20\n",
      "Enter 2nd the digit : 20\n",
      "Sum of even numbers is : 40\n"
     ]
    }
   ],
   "source": [
    "sum_and_diff(a,b)"
   ]
  },
  {
   "cell_type": "code",
   "execution_count": 8,
   "id": "bc3a863f",
   "metadata": {},
   "outputs": [
    {
     "name": "stdout",
     "output_type": "stream",
     "text": [
      "1st value : 14\n",
      "2nd value : 14\n",
      "28\n"
     ]
    }
   ],
   "source": [
    "# usng lambda function\n",
    "a= int(input(\"1st value : \"))\n",
    "b=int(input(\"2nd value : \"))\n",
    "if a%2==0 and b%2==0:\n",
    "    x=lambda a,b:a+b\n",
    "    print(x(a,b))\n",
    "else:\n",
    "    x=lambda a,b:a-b\n",
    "    print(x(a,b))\n"
   ]
  },
  {
   "cell_type": "code",
   "execution_count": null,
   "id": "ebdbda68",
   "metadata": {},
   "outputs": [],
   "source": []
  },
  {
   "cell_type": "markdown",
   "id": "d18c0619",
   "metadata": {},
   "source": [
    "### 5) Write a python program to convert all even indexed alphabets to upper and odd indexed char"
   ]
  },
  {
   "cell_type": "code",
   "execution_count": null,
   "id": "a79db5df",
   "metadata": {},
   "outputs": [],
   "source": []
  },
  {
   "cell_type": "code",
   "execution_count": 9,
   "id": "4955ca9f",
   "metadata": {},
   "outputs": [
    {
     "name": "stdout",
     "output_type": "stream",
     "text": [
      "Type 'odd' or 'even', which position you want in uppercase :even\n",
      "Even indexed alphabets are in uppercase  AbCdEfGhIjKlMnOpQrStUvWxYz\n"
     ]
    }
   ],
   "source": [
    "def upper_odd(s):\n",
    "    \n",
    "    pos=input(\"Type 'odd' or 'even', which position you want in uppercase :\")\n",
    "    if pos==\"even\":\n",
    "        ss=\"\"\n",
    "        for i in s:\n",
    "            if s.index(i)%2==0:\n",
    "                i=i.upper()\n",
    "                ss=ss+i\n",
    "            else:\n",
    "                ss=ss+i\n",
    "        print(\"Even indexed alphabets are in uppercase \",ss)\n",
    "    else:\n",
    "        ss=\"\"\n",
    "        for i in s:\n",
    "            if s.index(i)%2!=0:\n",
    "                i=i.upper()\n",
    "                ss=ss+i\n",
    "            else:\n",
    "                ss=ss+i\n",
    "        print(\"Odd indexed alphabets are in uppercase \",ss)\n",
    "upper_odd (\"abcdefghijklmnopqrstuvwxyz\") "
   ]
  },
  {
   "cell_type": "code",
   "execution_count": 10,
   "id": "0df83a88",
   "metadata": {},
   "outputs": [
    {
     "name": "stdout",
     "output_type": "stream",
     "text": [
      "Type 'odd' or 'even', which position you want in uppercase :odd\n",
      "Odd indexed alphabets are in uppercase  aBcDeFgHiJkLmNoPqRsTuVwXyZ\n"
     ]
    }
   ],
   "source": [
    "upper_odd (\"abcdefghijklmnopqrstuvwxyz\") "
   ]
  },
  {
   "cell_type": "code",
   "execution_count": null,
   "id": "4c34322d",
   "metadata": {},
   "outputs": [],
   "source": []
  },
  {
   "cell_type": "markdown",
   "id": "a82a4fd4",
   "metadata": {},
   "source": [
    "### 6) Write a python program which will print True if the input number is divisible by 5 or else False"
   ]
  },
  {
   "cell_type": "code",
   "execution_count": 11,
   "id": "207c9aec",
   "metadata": {},
   "outputs": [],
   "source": [
    "def div_by_5(num):\n",
    "    if num%5==0:\n",
    "        return True\n",
    "    return False"
   ]
  },
  {
   "cell_type": "code",
   "execution_count": 12,
   "id": "ee11a753",
   "metadata": {},
   "outputs": [
    {
     "data": {
      "text/plain": [
       "(True, False)"
      ]
     },
     "execution_count": 12,
     "metadata": {},
     "output_type": "execute_result"
    }
   ],
   "source": [
    "div_by_5(30) , div_by_5(24)"
   ]
  },
  {
   "cell_type": "markdown",
   "id": "bf9699a1",
   "metadata": {},
   "source": [
    "### 7) Given two integer numbers return their product only if the product is greater than 1000, else return their sum"
   ]
  },
  {
   "cell_type": "code",
   "execution_count": 1,
   "id": "7d89f252",
   "metadata": {},
   "outputs": [
    {
     "data": {
      "text/plain": [
       "(40, 2000)"
      ]
     },
     "execution_count": 1,
     "metadata": {},
     "output_type": "execute_result"
    }
   ],
   "source": [
    "def sum_or_product(a,b):\n",
    "    if (a*b)>1000:\n",
    "        return a*b \n",
    "    else:\n",
    "        return a+b\n",
    "\n",
    "sum_or_product(20,20),sum_or_product(50,40) # calling a function multiple time in a single line return result in tuple"
   ]
  },
  {
   "cell_type": "markdown",
   "id": "726090ff",
   "metadata": {},
   "source": [
    "### 8) Given two strings x, y writes a program to return a new string made of x and y’s first, middle, and last characters<br>Example:<br>Input<br>X=” pytho”<br>Y=” javas”<br>Output<br>” pjtvos”"
   ]
  },
  {
   "cell_type": "code",
   "execution_count": 14,
   "id": "24d8620e",
   "metadata": {},
   "outputs": [
    {
     "name": "stdout",
     "output_type": "stream",
     "text": [
      "pjtvos\n"
     ]
    }
   ],
   "source": [
    "x=\"pytho\"\n",
    "y=\"javas\"\n",
    "xy = x[0]+y[0]+x[len(x)//2]+y[len(x)//2]+x[-1]+y[-1]\n",
    "print(xy)"
   ]
  },
  {
   "cell_type": "code",
   "execution_count": null,
   "id": "88dcfc67",
   "metadata": {},
   "outputs": [],
   "source": []
  },
  {
   "cell_type": "markdown",
   "id": "97660825",
   "metadata": {},
   "source": [
    "### 9) Write a python program to take three names as input from a user in the single input () function call<br>Example:<br>Input:<br>Enter three names: - “person1 person2 person3”<br>Output:<br>Name1: - “person1”<br>Name2: - “person2”<br>Name3: - “person3”"
   ]
  },
  {
   "cell_type": "code",
   "execution_count": null,
   "id": "83df55e3",
   "metadata": {},
   "outputs": [],
   "source": []
  },
  {
   "cell_type": "code",
   "execution_count": 28,
   "id": "f7262d9f",
   "metadata": {},
   "outputs": [
    {
     "name": "stdout",
     "output_type": "stream",
     "text": [
      "Enter three names : person1 person2 person3\n",
      "name0:- person1\n",
      "name1:- person2\n",
      "name2:- person3\n"
     ]
    }
   ],
   "source": [
    "def multi_input():\n",
    "    name=input(\"Enter three names : \")\n",
    "    for i in name.split():\n",
    "        print(\"name{}:- {}\".format(name.index(i),i))\n",
    "multi_input()"
   ]
  },
  {
   "cell_type": "markdown",
   "id": "a5b5dac5",
   "metadata": {},
   "source": [
    "### 10) Write a Python program to get a string from a given string where all occurrences of its first char have been<br>changed to '@', except the first char itself.<br>Example:<br>Input:<br>'malayalam’<br>Output:<br>'malayala@'<br>Input:<br>'abcabab'<br>Output:<br>‘abc@b@b’"
   ]
  },
  {
   "cell_type": "code",
   "execution_count": 35,
   "id": "19aa546c",
   "metadata": {},
   "outputs": [
    {
     "name": "stdout",
     "output_type": "stream",
     "text": [
      "Type string : abcabababcabab\n",
      "abc@b@b@bc@b@b\n"
     ]
    }
   ],
   "source": [
    "s = input(\"Type string : \")\n",
    "char = s[0]\n",
    "for i in s:\n",
    "    s = s.replace(s[0],'@')\n",
    "    s = char + s[1:]\n",
    "print(s)"
   ]
  },
  {
   "cell_type": "markdown",
   "id": "844c43ae",
   "metadata": {},
   "source": [
    "### 11) Write a Python program to add 'ing' at the end of a given string (string length should be equal to or more than 3). If the given string already ends with 'ing' then add 'ly' instead. If the string length of the given string is less than 3, leave it unchanged <br>Example:<br>Input:<br>'sing’<br>Output:<br>'sly'<br>Input:<br>' playing'<br>Output:<br>‘playly’<br>Input:<br>' on'<br>Output:<br>‘on’"
   ]
  },
  {
   "cell_type": "code",
   "execution_count": 33,
   "id": "8526a656",
   "metadata": {},
   "outputs": [
    {
     "name": "stdout",
     "output_type": "stream",
     "text": [
      "Type the word : qamar\n"
     ]
    },
    {
     "data": {
      "text/plain": [
       "'qamaring'"
      ]
     },
     "execution_count": 33,
     "metadata": {},
     "output_type": "execute_result"
    }
   ],
   "source": [
    "def add_str():\n",
    "    s = input(\"Type the word : \")\n",
    "    if len(s)<3:\n",
    "        return s\n",
    "    else:\n",
    "        if s[-3:] == \"ing\":\n",
    "            return s+\"ly\"\n",
    "        return s+\"ing\"\n",
    "add_str()"
   ]
  },
  {
   "cell_type": "markdown",
   "id": "60a416bc",
   "metadata": {},
   "source": [
    "### 12) Write a python program that accepts two inputs num1 and num2 print True if one of them is 10 or if their sum is 10 otherwise print False"
   ]
  },
  {
   "cell_type": "code",
   "execution_count": 50,
   "id": "c15a5d67",
   "metadata": {},
   "outputs": [],
   "source": [
    "def true_false(num1,num2):\n",
    "    if num1==10 or num2==10 or (num1+num2)==10: \n",
    "        return True\n",
    "    return False"
   ]
  },
  {
   "cell_type": "code",
   "execution_count": 49,
   "id": "9c370212",
   "metadata": {},
   "outputs": [
    {
     "data": {
      "text/plain": [
       "(True, True, False, True)"
      ]
     },
     "execution_count": 49,
     "metadata": {},
     "output_type": "execute_result"
    }
   ],
   "source": [
    "true_false(5,5),true_false(10,5),true_false(6,6),true_false(7,3)"
   ]
  },
  {
   "cell_type": "code",
   "execution_count": null,
   "id": "2666d91e",
   "metadata": {},
   "outputs": [],
   "source": []
  },
  {
   "cell_type": "markdown",
   "id": "7f43f236",
   "metadata": {},
   "source": [
    "### 13) Write a python program that accepts three inputs x, y and z print True if x*y>z otherwise False"
   ]
  },
  {
   "cell_type": "code",
   "execution_count": 70,
   "id": "8e4fae44",
   "metadata": {},
   "outputs": [
    {
     "name": "stdout",
     "output_type": "stream",
     "text": [
      "Enter x value: 4\n",
      "Enter y value: 4\n",
      "Enter z value: 20\n",
      "False\n"
     ]
    }
   ],
   "source": [
    "x = int(input(\"Enter x value: \"))\n",
    "y = int(input(\"Enter y value: \"))\n",
    "z = int(input(\"Enter z value: \"))\n",
    "if (x*y)>z:\n",
    "    print(True)\n",
    "else:\n",
    "    print(False)"
   ]
  },
  {
   "cell_type": "code",
   "execution_count": 61,
   "id": "4edf465e",
   "metadata": {},
   "outputs": [
    {
     "data": {
      "text/plain": [
       "16"
      ]
     },
     "execution_count": 61,
     "metadata": {},
     "output_type": "execute_result"
    }
   ],
   "source": [
    "x(4,4,45)"
   ]
  },
  {
   "cell_type": "markdown",
   "id": "f3519c8b",
   "metadata": {},
   "source": [
    "### 14) Write a python program that accepts two strings inputs return True depending on whether the total number of characters in the first string is equal to the total number of characters in the second string"
   ]
  },
  {
   "cell_type": "code",
   "execution_count": 75,
   "id": "9e2670ff",
   "metadata": {},
   "outputs": [],
   "source": [
    "def compare_string():\n",
    "    s1 = input(\"1st string : \")\n",
    "    s2 = input(\"1st string : \")\n",
    "    if len(s1)==len(s2):\n",
    "        return True\n",
    "    return False"
   ]
  },
  {
   "cell_type": "code",
   "execution_count": 76,
   "id": "f5b235e8",
   "metadata": {},
   "outputs": [
    {
     "name": "stdout",
     "output_type": "stream",
     "text": [
      "1st string : qwerty\n",
      "1st string : ytrewq\n"
     ]
    },
    {
     "data": {
      "text/plain": [
       "True"
      ]
     },
     "execution_count": 76,
     "metadata": {},
     "output_type": "execute_result"
    }
   ],
   "source": [
    "compare_string()"
   ]
  },
  {
   "cell_type": "code",
   "execution_count": 78,
   "id": "820fded2",
   "metadata": {},
   "outputs": [
    {
     "name": "stdout",
     "output_type": "stream",
     "text": [
      "1st string : qwerty\n",
      "1st string : sdfg\n"
     ]
    },
    {
     "data": {
      "text/plain": [
       "False"
      ]
     },
     "execution_count": 78,
     "metadata": {},
     "output_type": "execute_result"
    }
   ],
   "source": [
    "compare_string()"
   ]
  },
  {
   "cell_type": "markdown",
   "id": "ac685c15",
   "metadata": {},
   "source": [
    "### 15) Write a python program that takes a string input, we'll say that the front is the first three characters of the string. If the string length is less than three characters, the front is whatever is there. Return a new string, which is three copies of the front"
   ]
  },
  {
   "cell_type": "code",
   "execution_count": 7,
   "id": "8d7fc7fe",
   "metadata": {},
   "outputs": [
    {
     "name": "stdout",
     "output_type": "stream",
     "text": [
      "qwerty\n"
     ]
    },
    {
     "data": {
      "text/plain": [
       "('copy of 1st 3 char:', 'qweqweqwe')"
      ]
     },
     "execution_count": 7,
     "metadata": {},
     "output_type": "execute_result"
    }
   ],
   "source": [
    "def make_copies():\n",
    "    s=input()\n",
    "    if len(s)<=3:\n",
    "        return s\n",
    "    return \"copy of 1st 3 char:\",s[:3]*3\n",
    "make_copies()"
   ]
  },
  {
   "cell_type": "markdown",
   "id": "4e9b155d",
   "metadata": {},
   "source": [
    "### 16) Write a python program that takes in a word and determines whether or not it is plural. A plural word is one that ends in \"s\"."
   ]
  },
  {
   "cell_type": "code",
   "execution_count": 15,
   "id": "c04d825b",
   "metadata": {},
   "outputs": [
    {
     "name": "stdout",
     "output_type": "stream",
     "text": [
      "song\n"
     ]
    },
    {
     "data": {
      "text/plain": [
       "'Not a plural'"
      ]
     },
     "execution_count": 15,
     "metadata": {},
     "output_type": "execute_result"
    }
   ],
   "source": [
    "def check_plural():\n",
    "    word=input()\n",
    "    if word[-1]==\"s\":\n",
    "        return word,\"is a plural word\"\n",
    "    else:\n",
    "        return \"Not a plural\"\n",
    "check_plural()"
   ]
  },
  {
   "cell_type": "markdown",
   "id": "fea5c4a4",
   "metadata": {},
   "source": [
    "### 17) A bartender is writing a simple program to determine whether he should serve drinks to someone. He only serves drinks to people 18 and older and when he's not on break (True means break and False means not a break time). Given the person's age, and whether break time is in session, create a python program which prints whether he should serve drinks or not."
   ]
  },
  {
   "cell_type": "code",
   "execution_count": 24,
   "id": "7306104d",
   "metadata": {},
   "outputs": [
    {
     "name": "stdout",
     "output_type": "stream",
     "text": [
      "what is ur age : 17\n"
     ]
    },
    {
     "data": {
      "text/plain": [
       "\"Sorry I can't serve you\""
      ]
     },
     "execution_count": 24,
     "metadata": {},
     "output_type": "execute_result"
    }
   ],
   "source": [
    "def serving():\n",
    "    age = int(input(\"what is ur age : \"))\n",
    "    if age<18:\n",
    "        return \"Sorry I can't serve you\"\n",
    "    else:\n",
    "        breaktime = input(\"Cheking breaktime type y/n: \")\n",
    "        if breaktime == \"y\":\n",
    "            return \"Sorry it is braktime, can't serve you\"\n",
    "        return \"Tell me your drink sir\" \n",
    "serving()"
   ]
  },
  {
   "cell_type": "code",
   "execution_count": 25,
   "id": "849838d6",
   "metadata": {},
   "outputs": [
    {
     "name": "stdout",
     "output_type": "stream",
     "text": [
      "what is ur age : 23\n",
      "Cheking breaktime type y/n: n\n"
     ]
    },
    {
     "data": {
      "text/plain": [
       "'Tell me your drink sir'"
      ]
     },
     "execution_count": 25,
     "metadata": {},
     "output_type": "execute_result"
    }
   ],
   "source": [
    "serving()"
   ]
  },
  {
   "cell_type": "markdown",
   "id": "1a25bd70",
   "metadata": {},
   "source": [
    "### 18) Manoj Kumar has family and friends. Help him remind them who is who. Given a string with a name, return the relation of that person to Manoj Kumar.<br>Person Relation <br>Shiva father <br>Letha mother <br>Tarun brother<br>Kavitha sister<br>Strange Coder"
   ]
  },
  {
   "cell_type": "code",
   "execution_count": 26,
   "id": "4d021754",
   "metadata": {},
   "outputs": [
    {
     "name": "stdout",
     "output_type": "stream",
     "text": [
      "shiva\n"
     ]
    },
    {
     "data": {
      "text/plain": [
       "('shiva', 'Father')"
      ]
     },
     "execution_count": 26,
     "metadata": {},
     "output_type": "execute_result"
    }
   ],
   "source": [
    "def remember():\n",
    "    person=input()\n",
    "    if person==\"shiva\":\n",
    "        return person,\"Father\"\n",
    "    elif person==\"letha\":\n",
    "        return person,\"Mother\"\n",
    "    elif person==\"tarun\":\n",
    "        return person,\"is Brother\"\n",
    "    elif person==\"kavitha\":\n",
    "        return person,\"is Sister\"\n",
    "    elif person==\"strange\"\n",
    "        return person,\"is Coder\"\n",
    "    return person,\"Friend\"\n",
    "remember()"
   ]
  },
  {
   "cell_type": "markdown",
   "id": "853860cb",
   "metadata": {},
   "source": [
    "###  19) Write a python program that takes a string, breaks it up and returns it with vowels first, consonants second. For any character that's not a vowel (like special characters or spaces), treat them like consonant "
   ]
  },
  {
   "cell_type": "code",
   "execution_count": 27,
   "id": "f199e343",
   "metadata": {},
   "outputs": [
    {
     "name": "stdout",
     "output_type": "stream",
     "text": [
      "abcdfkjgflfdgoifhdigvdfsjbsrogu9074590796854iof,;vldf@^#\n",
      "aoiiouiobcdfkjgflfdgfhdgvdfsjbsrg9074590796854f,;vldf@^#\n"
     ]
    }
   ],
   "source": [
    "stryng = input()\n",
    "vowels = 'aeiou'\n",
    "vowl = \"\"\n",
    "conso = \"\"\n",
    "for i in stryng:\n",
    "    if i in vowels:\n",
    "        vowl+=i\n",
    "    else:\n",
    "        conso+=i\n",
    "print(vowl+conso)"
   ]
  },
  {
   "cell_type": "markdown",
   "id": "9a2ba08f",
   "metadata": {},
   "source": [
    "### 20) Create a dynamic calculator which asks for numbers and operator and return the answers<br>Example<br>Input:<br>Type first number: 10<br>Type any of this (+, -, *, /, %, **): *<br>Type second number: 19<br>Output:<br>Answer is 190"
   ]
  },
  {
   "cell_type": "code",
   "execution_count": null,
   "id": "efbc25c7",
   "metadata": {},
   "outputs": [],
   "source": [
    "def calculate():\n",
    "    num1 = int(input(\"Type 1st number: \"))\n",
    "    num2 = int(input(\"Type 2nd number: \"))\n",
    "    op = input(\"What operation you want to do, Choose(+, -, *, /, %)\")\n",
    "    if op == \"+\":\n",
    "        return num1+num2\n",
    "    elif op == \"-\":\n",
    "        return num1-num2\n",
    "    elif op == \"*\":\n",
    "        return num1*num2\n",
    "    elif op == \"/\":\n",
    "        return num1/num2\n",
    "    elif op == \"%\":\n",
    "        return num1%num2\n",
    "    else:\n",
    "        print(\"Wrong input , Try again \")\n",
    "        calculate()\n",
    "calculate()"
   ]
  }
 ],
 "metadata": {
  "kernelspec": {
   "display_name": "Python 3",
   "language": "python",
   "name": "python3"
  },
  "language_info": {
   "codemirror_mode": {
    "name": "ipython",
    "version": 3
   },
   "file_extension": ".py",
   "mimetype": "text/x-python",
   "name": "python",
   "nbconvert_exporter": "python",
   "pygments_lexer": "ipython3",
   "version": "3.8.10"
  }
 },
 "nbformat": 4,
 "nbformat_minor": 5
}
